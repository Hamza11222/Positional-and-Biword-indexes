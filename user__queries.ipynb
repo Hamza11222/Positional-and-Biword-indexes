{
  "nbformat": 4,
  "nbformat_minor": 0,
  "metadata": {
    "colab": {
      "name": "user queries.ipynb",
      "provenance": [],
      "collapsed_sections": []
    },
    "kernelspec": {
      "name": "python3",
      "display_name": "Python 3"
    },
    "language_info": {
      "name": "python"
    }
  },
  "cells": [
    {
      "cell_type": "code",
      "metadata": {
        "id": "B4ZhQ-NLTJ-s",
        "colab": {
          "base_uri": "https://localhost:8080/"
        },
        "outputId": "89af63ab-bb8f-4c84-8635-69c667ea8b6b"
      },
      "source": [
        "from google.colab import drive\n",
        "drive.mount('/content/drive')"
      ],
      "execution_count": null,
      "outputs": [
        {
          "output_type": "stream",
          "name": "stdout",
          "text": [
            "Drive already mounted at /content/drive; to attempt to forcibly remount, call drive.mount(\"/content/drive\", force_remount=True).\n"
          ]
        }
      ]
    },
    {
      "cell_type": "code",
      "metadata": {
        "id": "X5x8uSvPTKCr"
      },
      "source": [
        "import os\n",
        "os.chdir('/content/drive/My Drive/documents')"
      ],
      "execution_count": null,
      "outputs": []
    },
    {
      "cell_type": "code",
      "metadata": {
        "id": "bAnXqReiTfV4"
      },
      "source": [
        "import json\n",
        "f = open('_pos_word-index.json',)\n",
        "pos_index = json.load(f)"
      ],
      "execution_count": null,
      "outputs": []
    },
    {
      "cell_type": "code",
      "metadata": {
        "id": "W80-yytumpyA"
      },
      "source": [
        "\n"
      ],
      "execution_count": null,
      "outputs": []
    },
    {
      "cell_type": "code",
      "metadata": {
        "colab": {
          "base_uri": "https://localhost:8080/"
        },
        "id": "vCaqCrOtg3SG",
        "outputId": "c743a68c-2d06-447b-af0e-6e39dce502c8"
      },
      "source": [
        "file5=\"detailed history\"\n",
        "words = file5.split(\" \")\n",
        "print(len(words))\n",
        "a=[]\n",
        "for pos, term in enumerate(words):\n",
        "      if  term in pos_index:\n",
        "        sample_pos_idx = pos_index[term]\n",
        "        print(term)\n",
        "        print(sample_pos_idx)\n",
        "        \n",
        "        file_list = sample_pos_idx[1]\n",
        "        file_map.append(file_list)\n",
        "        #print(\"Filename, [Positions]\")\n",
        "        for fileno, positions in file_list.items():\n",
        "            fileno=int(fileno)\n",
        "            a.append(fileno)\n",
        "            #print(file_map, positions)\n",
        "      else:\n",
        "          print(\"This file doesn't have this word\")  \n",
        "print(a) \n",
        "c=[]         \n",
        "from collections import Counter\n",
        "counter = Counter(a)\n",
        "b=counter.most_common()\n",
        "for i in b:\n",
        "  if i[1]==len(words):\n",
        "     c.append(i[0])  \n",
        "print(c)\n",
        "               "
      ],
      "execution_count": null,
      "outputs": [
        {
          "output_type": "stream",
          "name": "stdout",
          "text": [
            "2\n",
            "detailed\n",
            "[56, {'51': [1], '68': [109], '95': [5], '151': [58], '152': [141], '161': [79], '168': [4], '186': [40], '200': [13], '204': [123], '275': [89, 136], '281': [75, 91], '293': [1], '309': [38], '384': [99], '407': [292], '416': [30], '491': [44], '497': [7], '604': [29], '605': [3703083], '606': [0], '607': [15864, 256415], '654': [21], '659': [96], '755': [29], '797': [98], '873': [162], '880': [21], '882': [77], '890': [271], '958': [18], '974': [97], '989': [127, 154], '1022': [8], '1023': [19], '1058': [47], '1077': [33], '1097': [86], '1101': [47], '1126': [7], '1134': [90, 123], '1139': [55], '1207': [72], '1245': [105], '1256': [79], '1267': [131], '1288': [118], '1377': [97], '1398': [35], '1451': [50]}]\n",
            "history\n",
            "[65, {'3': [11], '14': [6], '85': [14], '188': [13, 40], '236': [93], '258': [74], '287': [58], '328': [58], '405': [126], '475': [50], '477': [65], '508': [71], '520': [19], '544': [14], '552': [145], '569': [81], '591': [1], '605': [5798140], '606': [1], '607': [23766, 387864], '634': [15], '647': [20, 75], '655': [34, 76], '656': [94], '657': [32], '739': [115], '784': [165, 188, 234], '802': [31], '816': [111], '841': [46], '848': [5], '880': [201], '903': [41], '926': [51], '940': [15], '946': [38], '955': [44], '1046': [33], '1085': [78], '1095': [3, 54, 77, 141], '1098': [25], '1133': [99], '1139': [10], '1163': [49], '1164': [9, 29, 46, 96], '1194': [18, 27], '1207': [5, 73], '1209': [36], '1243': [66, 76], '1420': [22]}]\n",
            "[51, 68, 95, 151, 152, 161, 168, 186, 200, 204, 275, 281, 293, 309, 384, 407, 416, 491, 497, 604, 605, 606, 607, 654, 659, 755, 797, 873, 880, 882, 890, 958, 974, 989, 1022, 1023, 1058, 1077, 1097, 1101, 1126, 1134, 1139, 1207, 1245, 1256, 1267, 1288, 1377, 1398, 1451, 3, 14, 85, 188, 236, 258, 287, 328, 405, 475, 477, 508, 520, 544, 552, 569, 591, 605, 606, 607, 634, 647, 655, 656, 657, 739, 784, 802, 816, 841, 848, 880, 903, 926, 940, 946, 955, 1046, 1085, 1095, 1098, 1133, 1139, 1163, 1164, 1194, 1207, 1209, 1243, 1420]\n",
            "[605, 606, 607, 880, 1139, 1207]\n"
          ]
        }
      ]
    },
    {
      "cell_type": "code",
      "metadata": {
        "id": "ateizuruifq8"
      },
      "source": [
        "import json\n",
        "file = open('biword-index.json',)\n",
        "data_bi = json.load(file)"
      ],
      "execution_count": null,
      "outputs": []
    },
    {
      "cell_type": "code",
      "metadata": {
        "colab": {
          "base_uri": "https://localhost:8080/"
        },
        "id": "Dr-9rGxlzxUo",
        "outputId": "5b212ca7-5133-4631-b551-e11539595aeb"
      },
      "source": [
        "file5=\"general purpose computer programs\"\n",
        "words = file5.split(\" \")\n",
        "print(len(words))\n",
        "v=len(words)\n",
        "bi_index={}  \n",
        "for pos, term in enumerate(words): \n",
        "                 if pos <= v-2: \n",
        "                    phrase = \"\"\n",
        "                    #print(term)\n",
        "                    s = 0\n",
        "                    if bool(words[pos].strip()):\n",
        "                         phrase += words[pos].strip()\n",
        "                         s = 1\n",
        "                    if bool(words[pos + 1].strip()) and words[pos + 1].istitle():\n",
        "                         if s == 1:\n",
        "                              phrase += \" \"\n",
        "                    phrase += words[pos+1].strip()\n",
        "                    print(phrase)\n",
        "                    bi_index[pos]=phrase\n",
        "print(bi_index[2]) \n",
        "for k in range(v-2):\n",
        "    if  bi_index[k] in data_bi:\n",
        "        sample_pos_idx = data_bi[bi_index[k]]\n",
        "        print(\"Positional Index\")\n",
        "        print(sample_pos_idx)\n"
      ],
      "execution_count": null,
      "outputs": [
        {
          "output_type": "stream",
          "name": "stdout",
          "text": [
            "4\n",
            "generalpurpose\n",
            "purposecomputer\n",
            "computerprograms\n",
            "computerprograms\n",
            "Positional Index\n",
            "['file_248.txt', 'file_563.txt', 'file_692.txt', 'file_978.txt', 'user_query.txt']\n",
            "Positional Index\n",
            "['file_692.txt', 'user_query.txt']\n",
            "Positional Index\n",
            "['file_1415.txt', 'file_328.txt', 'file_332.txt', 'file_378.txt', 'file_422.txt', 'file_484.txt', 'file_498.txt', 'file_6.txt', 'file_677.txt', 'file_692.txt', 'file_694.txt', 'file_700.txt', 'file_704.txt', 'file_848.txt', 'file_857.txt', 'file_941.txt', 'user_query.txt']\n"
          ]
        }
      ]
    }
  ]
}